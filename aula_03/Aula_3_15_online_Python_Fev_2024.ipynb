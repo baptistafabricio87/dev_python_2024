{
  "cells": [
    {
      "cell_type": "markdown",
      "metadata": {
        "id": "view-in-github",
        "colab_type": "text"
      },
      "source": [
        "<a href=\"https://colab.research.google.com/github/baptistafabricio87/dev_python_2024/blob/master/aula_03/Aula_3_15_online_Python_Fev_2024.ipynb\" target=\"_parent\"><img src=\"https://colab.research.google.com/assets/colab-badge.svg\" alt=\"Open In Colab\"/></a>"
      ]
    },
    {
      "cell_type": "markdown",
      "id": "163127ef",
      "metadata": {
        "id": "163127ef"
      },
      "source": [
        "# Fabricio Castro\n",
        "## Fev/2024\n",
        "### Curso Python"
      ]
    },
    {
      "cell_type": "markdown",
      "source": [
        "## Planejamento da Aula 3/15\n",
        "- Experiencia com analise de dados em Python sobre Fretes\n",
        "- Dicas Python\n",
        "- Variáveis => Tipos de Dados => Operadores => Estruturas de dados"
      ],
      "metadata": {
        "id": "JWyS5q34csqC"
      },
      "id": "JWyS5q34csqC"
    },
    {
      "cell_type": "markdown",
      "source": [
        "# Estruturas de dados\n",
        "\n",
        "---\n",
        "\n",
        "\n",
        "## Aqui estão algumas dicas para escrever código Python otimizado:\n",
        "### Use Estruturas de Dados Eficientes:\n",
        "Escolha as estruturas de dados certas para o problema em questão. Por exemplo, se estiver trabalhando com muitas inserções e remoções, considere usar um conjunto (set) ou um dicionário (dict) em vez de uma lista.\n",
        "\n",
        "### Evite Loops Aninhados:\n",
        "Evite loops aninhados sempre que possível, pois eles aumentam a complexidade temporal do algoritmo. Se você precisa usar loops aninhados, verifique se o algoritmo não pode ser otimizado.\n",
        "\n",
        "### Compreenda as Complexidades Temporais:\n",
        "Conheça a complexidade temporal das operações que você está realizando. Por exemplo, a operação in em listas é O(n), enquanto em conjuntos (sets) e dicionários (dicts) é O(1).\n",
        "\n",
        "### Use Compreensões de Lista:\n",
        "Em vez de usar loops tradicionais para criar listas, considere usar compreensões de lista, que geralmente são mais rápidas e mais legíveis.\n",
        "\n",
        "### Evite Importar Tudo de um Módulo:\n",
        "Em vez de fazer from module import *, importe apenas as funções que você precisa. Isso economiza tempo de carregamento e torna seu código mais claro.\n",
        "\n",
        "### Use Funções Nativas do Python:\n",
        "Sempre que possível, use funções nativas do Python em vez de escrever sua própria lógica. As funções internas do Python são geralmente otimizadas e executam mais rápido do que o código que você escreveria.\n",
        "\n",
        "### Use Iteradores e Geradores:\n",
        "Em vez de criar listas grandes na memória, use iteradores e geradores para produzir dados sob demanda. Isso economiza memória e torna seu código mais eficiente.\n",
        "\n",
        "### Evite Criação Desnecessária de Objetos:\n",
        "Evite criar objetos desnecessários em seu código, especialmente dentro de loops. Isso inclui strings, listas e objetos personalizados. Se possível, reutilize objetos existentes.\n",
        "\n",
        "### Perfil e Otimize:\n",
        "Use ferramentas de perfil (como cProfile) para identificar partes lentas do seu código e, em seguida, otimize essas partes para melhorar o desempenho geral.\n",
        "\n",
        "### Use Bibliotecas Python Otimizadas:\n",
        "Em vez de reinventar a roda, use bibliotecas Python bem estabelecidas e otimizadas sempre que possível. Por exemplo, para operações matemáticas intensivas, você pode usar a biblioteca NumPy.\n",
        "\n",
        "\n",
        "***Lembre-se de que a otimização prematura nem sempre é a melhor abordagem. É importante primeiro escrever um código claro e legível e, em seguida, otimizá-lo conforme necessário com base em medições e perfis reais de desempenho.***"
      ],
      "metadata": {
        "id": "a-EpcnPUmtb1"
      },
      "id": "a-EpcnPUmtb1"
    },
    {
      "cell_type": "markdown",
      "source": [
        "## Convenção PEP8\n",
        "- Variáveis: snake_case\n",
        "-  Classes: CamelCase\n",
        "\n",
        "Variáveis em Python são usadas para armazenar valores.\n",
        "Elas são criadas quando você atribui um valor a elas.\n",
        "O nome de uma variável pode conter letras, números e underscores, mas deve começar com uma letra ou um underscore.\n",
        "Python é uma linguagem de tipagem dinâmica, o que significa que você não precisa declarar explicitamente o tipo de uma variável."
      ],
      "metadata": {
        "id": "0KvfchABex0x"
      },
      "id": "0KvfchABex0x"
    },
    {
      "cell_type": "markdown",
      "source": [
        "# Tipos de Dados em Python:\n",
        "\n",
        "\n",
        "---\n",
        "\n",
        "\n",
        "## Python possui vários tipos de dados embutidos, incluindo:\n",
        "- Inteiro (int): Números inteiros sem parte fracionária.\n",
        "- Ponto flutuante (float): Números com parte fracionária.\n",
        "- String (str): Sequências de caracteres.\n",
        "- Booleano (bool): Valores verdadeiro ou falso.\n",
        "- Lista (list): Coleção ordenada e mutável de itens.\n",
        "- Tupla (tuple): Coleção ordenada e imutável de itens.\n",
        "- Dicionário (dict): Coleção mutável de pares chave-valor.\n",
        "- Conjunto (set): Coleção mutável não ordenada e sem elementos duplicados.\n",
        "\n",
        "### Series:\n",
        "É uma estrutura de dados fornecida pela biblioteca pandas. Ela é semelhante a uma matriz unidimensional, mas pode conter dados de diferentes tipos. Cada elemento na Series possui um rótulo associado, chamado de índice. As Series são muito úteis para análise de dados e manipulação de séries temporais.\n",
        "\n",
        "### Frozenset:\n",
        " Frozenset é um tipo de dado em Python que representa um conjunto imutável. Assim como os conjuntos (set), frozensets são coleções não ordenadas de elementos únicos. A diferença principal entre conjuntos (set) e frozensets é que os conjuntos podem ser modificados, enquanto os frozensets são imutáveis, ou seja, uma vez criados, não podem ser alterados.\n",
        "\n",
        "### Data:\n",
        "Não é nativo na tipagem, existe uma biblioteca específica para conversão. O módulo datetime em Python permite trabalhar com datas e horas. Ele fornece classes para manipulação de datas, horas, deltas (diferenças entre datas e horas) e intervalos. O módulo timedelta permite representar uma duração de tempo. Ele é frequentemente usado para calcular datas futuras ou passadas adicionando ou subtraindo uma determinada quantidade de tempo.\n"
      ],
      "metadata": {
        "id": "TIdE7tTEmKmx"
      },
      "id": "TIdE7tTEmKmx"
    },
    {
      "cell_type": "markdown",
      "source": [
        "# Funções Nativas\n",
        "\n",
        "---\n",
        "\n",
        "\n",
        "São aquelas que já vêm embutidas na linguagem e estão prontas para uso sem a necessidade de importar módulos adicionais. Elas oferecem funcionalidades básicas e essenciais para lidar com diversos aspectos da programação. Vou explicar algumas das funções nativas mais comuns e sua utilização:\n",
        "\n",
        "## Funções de Conversão de Tipos:\n",
        "- int(): Converte um valor para um inteiro.\n",
        "- float(): Converte um valor para um número de ponto flutuante.\n",
        "- str(): Converte um valor para uma string.\n",
        "- bool(): Converte um valor para um booleano.\n",
        "\n",
        "## Funções de Manipulação de Sequências:\n",
        "- len(): Retorna o comprimento de uma sequência (como strings, listas, tuplas).\n",
        "- max(): Retorna o maior elemento em uma sequência.\n",
        "- min(): Retorna o menor elemento em uma sequência.\n",
        "- sum(): Retorna a soma dos elementos em uma sequência.\n",
        "\n",
        "## Funções de Iteração:\n",
        "- range(): Cria uma sequência de números.\n",
        "- enumerate(): Retorna um objeto enumerado.\n",
        "- zip(): Combina elementos de duas ou mais sequências.\n",
        "\n",
        "## Funções de Entrada/Saída:\n",
        "- input(): Solicita ao usuário uma entrada.\n",
        "- print(): Exibe uma mensagem na saída padrão.\n",
        "\n",
        "## Funções de Manipulação de Objetos:\n",
        "- id(): Retorna o identificador único de um objeto.\n",
        "- type(): Retorna o tipo de um objeto.\n",
        "- isinstance(): Verifica se um objeto é uma instância de uma determinada classe.\n",
        "\n",
        "## Funções Nativas para manuseio de Listas:\n",
        "- append(): Adiciona um elemento ao final da lista.\n",
        "- extend(): Adiciona os elementos de outra lista ao final da lista atual.\n",
        "- insert(): Insere um elemento em uma posição específica da lista.\n",
        "- remove(): Remove a primeira ocorrência de um elemento da lista.\n",
        "- pop(): Remove e retorna um elemento da lista, com base no índice especificado (se nenhum índice for especificado, remove e retorna o último elemento).\n",
        "- index(): Retorna o índice da primeira ocorrência de um elemento na lista.\n",
        "- count(): Retorna o número de vezes que um elemento ocorre na lista.\n",
        "- sort(): Ordena os elementos da lista.\n",
        "- reverse(): Inverte a ordem dos elementos da lista.\n",
        "\n",
        "## Funções Nativas para manuseio de Tuplas:\n",
        "- count(): Retorna o número de ocorrências de um valor na tupla.\n",
        "- index(): Retorna o índice da primeira ocorrência de um valor na tupla.\n",
        "\n",
        "## Funções Nativas para manuseio de Dicionários:\n",
        "- keys(): Retorna uma lista contendo as chaves do dicionário.\n",
        "- values(): Retorna uma lista contendo os valores do dicionário.\n",
        "- items(): Retorna uma lista de tuplas, onde cada tupla é um par chave-valor.\n",
        "- get(): Retorna o valor associado à chave especificada.\n",
        "- pop(): Remove e retorna o valor associado à chave especificada.\n",
        "- popitem(): Remove e retorna um par chave-valor arbitrário do dicionário.\n",
        "- update(): Atualiza o dicionário com pares chave-valor de outro dicionário ou iterável.\n",
        "\n",
        "## Funções Nativas para manuseio de Conjuntos:\n",
        "- add(): Adiciona um elemento ao conjunto.\n",
        "- remove(): Remove um elemento específico do conjunto. Se o elemento não estiver presente, gera um erro.\n",
        "- discard(): Remove um elemento específico do conjunto, se estiver presente. Se o elemento não estiver presente, não gera erro.\n",
        "- pop(): Remove e retorna um elemento arbitrário do conjunto.\n",
        "- clear(): Remove todos os elementos do conjunto.\n",
        "- union(): Retorna a união de dois conjuntos.\n",
        "- intersection(): Retorna a interseção de dois conjuntos.\n",
        "- difference(): Retorna a diferença entre dois conjuntos."
      ],
      "metadata": {
        "id": "Ndhed1hZmcrm"
      },
      "id": "Ndhed1hZmcrm"
    },
    {
      "cell_type": "code",
      "execution_count": null,
      "id": "230eae97",
      "metadata": {
        "colab": {
          "base_uri": "https://localhost:8080/"
        },
        "id": "230eae97",
        "outputId": "2c5c5dca-b32b-4196-9c15-d7e5de91af07"
      },
      "outputs": [
        {
          "output_type": "stream",
          "name": "stdout",
          "text": [
            "Ele é médico\n"
          ]
        }
      ],
      "source": [
        "#string\n",
        "nome_completo  = \"João da Silva\"\n",
        "\n",
        "#inteiro\n",
        "idade          = 30\n",
        "\n",
        "#float\n",
        "altura         = 1.75\n",
        "peso           = 110.22097652345\n",
        "\n",
        "#booleano True/False são palavras reservadas\n",
        "medicina       = False\n",
        "masculino      = True\n",
        "\n",
        "if not medicina:\n",
        "    print(\"Ele é médico\")\n",
        "\n",
        "#list\n",
        "lista          = [1, 2, 3, \"marcio\", True, False, \"06/05/1968\", 1200.45]\n",
        "\n",
        "#tuple\n",
        "tupla          = (4, 5, 6)\n",
        "\n",
        "#dictionary\n",
        "dicionario     = {'a': 1, 'b': 2, 'c': 3}\n",
        "\n",
        "dados_pessoais = {\n",
        "    \"nome\": \"Maria\",\n",
        "    \"idade\": 25,\n",
        "    \"altura\": 1.65,\n",
        "    \"solteira\": False,\n",
        "    \"interesses\": [\"Python\", \"Data Science\", \"Viagens\"]\n",
        "}\n",
        "\n",
        "#set\n",
        "conjunto      = {1, 2, 3}"
      ]
    },
    {
      "cell_type": "markdown",
      "id": "5ecbe30f",
      "metadata": {
        "id": "5ecbe30f"
      },
      "source": [
        "## Operadores"
      ]
    },
    {
      "cell_type": "code",
      "execution_count": null,
      "id": "64aec177",
      "metadata": {
        "id": "64aec177"
      },
      "outputs": [],
      "source": [
        "Operador de Atrbiuição\n",
        "----------------------------\n",
        " =  adiciona um valor a algo\n",
        "+=  adiciona em algo + algo\n",
        "-=  subtrai de algo - algo\n",
        "\n",
        "Operadores Aritiméticos\n",
        "---------------------------------------\n",
        " +  (adição)\n",
        " -  substração\n",
        " *  multiplicação\n",
        " /  divisão\n",
        " // divisão com arredondamento p/ baixo\n",
        " %  resto de divisão\n",
        " ** exponenciação\n",
        "\n",
        "Operadores Relacionais\n",
        "----------------------\n",
        "<   menor que\n",
        ">   maior que\n",
        "<=  menor igual que\n",
        ">=  maior igual que\n",
        "==  iguldade perfeita\n",
        "!=  diferente de\n",
        "\n",
        "Operadores Lógicos\n",
        "---------------------\n",
        "and instrução \"e\"   lógico\n",
        "or  instrução \"ou\"  lógico\n",
        "not instrução \"não\" lógico\n",
        "\n",
        "Precedência de Operadores\n",
        "-------------------------\n",
        "1 **\n",
        "2 * / % //\n",
        "3 + -\n",
        "4 <= < > >=\n",
        "5 == !=\n",
        "6 = %= /= //= -= += = *=\n",
        "7 not or and\n",
        "\n",
        "Como mudar a precedência\n",
        "------------------------\n",
        "\"()\" Parenteses, logo a maior precedência é a execução do conteúdo\n",
        "interno dos parenteses."
      ]
    },
    {
      "cell_type": "markdown",
      "id": "f9109983",
      "metadata": {
        "id": "f9109983"
      },
      "source": [
        "### Inteiros"
      ]
    },
    {
      "cell_type": "code",
      "execution_count": null,
      "id": "41d30b45",
      "metadata": {
        "colab": {
          "base_uri": "https://localhost:8080/"
        },
        "id": "41d30b45",
        "outputId": "bf3608a6-1c13-48f9-ed1c-7695673e59f0"
      },
      "outputs": [
        {
          "output_type": "stream",
          "name": "stdout",
          "text": [
            "10\n",
            "<class 'int'>\n"
          ]
        }
      ],
      "source": [
        "a  = 10\n",
        "print(a)\n",
        "print(type(a))"
      ]
    },
    {
      "cell_type": "code",
      "execution_count": null,
      "id": "f54dd111",
      "metadata": {
        "colab": {
          "base_uri": "https://localhost:8080/"
        },
        "id": "f54dd111",
        "outputId": "7ba4eb31-596f-4c73-fc7e-b6215163bf9c"
      },
      "outputs": [
        {
          "output_type": "stream",
          "name": "stdout",
          "text": [
            "40\n",
            "<class 'int'>\n"
          ]
        }
      ],
      "source": [
        "a += 30\n",
        "print(a)\n",
        "print(type(a))"
      ]
    },
    {
      "cell_type": "code",
      "execution_count": null,
      "id": "5ddf8c59",
      "metadata": {
        "colab": {
          "base_uri": "https://localhost:8080/"
        },
        "id": "5ddf8c59",
        "outputId": "ca382361-715c-451f-b2d2-3b501c3d8ae8"
      },
      "outputs": [
        {
          "output_type": "stream",
          "name": "stdout",
          "text": [
            "1600\n",
            "<class 'int'>\n"
          ]
        }
      ],
      "source": [
        "a = a ** 2\n",
        "print(a)\n",
        "print(type(a))"
      ]
    },
    {
      "cell_type": "code",
      "execution_count": null,
      "id": "8ec53580",
      "metadata": {
        "id": "8ec53580",
        "outputId": "8b8b7a4e-fc22-4914-c54a-bbdc6de66588",
        "colab": {
          "base_uri": "https://localhost:8080/"
        }
      },
      "outputs": [
        {
          "output_type": "stream",
          "name": "stdout",
          "text": [
            "800.0\n",
            "<class 'float'>\n"
          ]
        }
      ],
      "source": [
        "a = a / 2\n",
        "print(a)\n",
        "print(type(a))"
      ]
    },
    {
      "cell_type": "code",
      "execution_count": null,
      "id": "5f7b19f8",
      "metadata": {
        "id": "5f7b19f8",
        "outputId": "10f399b3-89e2-42f3-b13d-3ce9eb6aceef",
        "colab": {
          "base_uri": "https://localhost:8080/"
        }
      },
      "outputs": [
        {
          "output_type": "stream",
          "name": "stdout",
          "text": [
            "2400.0\n",
            "<class 'float'>\n"
          ]
        }
      ],
      "source": [
        "a = a * 3\n",
        "print(a)\n",
        "print(type(a))"
      ]
    },
    {
      "cell_type": "code",
      "execution_count": null,
      "id": "edbb6402",
      "metadata": {
        "id": "edbb6402",
        "outputId": "93b3600d-fa1c-47f1-fecf-3afa6b19d1a6",
        "colab": {
          "base_uri": "https://localhost:8080/"
        }
      },
      "outputs": [
        {
          "output_type": "stream",
          "name": "stdout",
          "text": [
            "06/05/1968\n",
            "<class 'str'>\n"
          ]
        }
      ],
      "source": [
        "aniversario = \"06/05/1968\"\n",
        "print(aniversario)\n",
        "print(type(aniversario))"
      ]
    }
  ],
  "metadata": {
    "kernelspec": {
      "display_name": "Python 3 (ipykernel)",
      "language": "python",
      "name": "python3"
    },
    "language_info": {
      "codemirror_mode": {
        "name": "ipython",
        "version": 3
      },
      "file_extension": ".py",
      "mimetype": "text/x-python",
      "name": "python",
      "nbconvert_exporter": "python",
      "pygments_lexer": "ipython3",
      "version": "3.11.3"
    },
    "colab": {
      "provenance": [],
      "include_colab_link": true
    }
  },
  "nbformat": 4,
  "nbformat_minor": 5
}